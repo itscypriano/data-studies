{
 "cells": [
  {
   "cell_type": "markdown",
   "metadata": {},
   "source": [
    "# **Data types, variables/constants & operators in Python**"
   ]
  },
  {
   "cell_type": "markdown",
   "metadata": {},
   "source": [
    "### **Exercises**\n",
    "\n",
    "1️⃣ **Data Type Manipulation and Conversion**\n",
    "\n",
    "Write a function that takes a list of strings representing numbers and returns the sum of these numbers converted to integers or floats, depending on the format of the string. If there are invalid values, ignore them.\n",
    "\n",
    "Input Example: [\"10\", \"20.5\", \"abc\", \"5\"]\n",
    "\n",
    "Expected Output: 35.5"
   ]
  },
  {
   "cell_type": "code",
   "execution_count": 8,
   "metadata": {},
   "outputs": [
    {
     "name": "stdout",
     "output_type": "stream",
     "text": [
      "90.5\n"
     ]
    }
   ],
   "source": [
    "def convert (list, result=0):\n",
    "    for i in list:\n",
    "        try:\n",
    "            result += float(i)\n",
    "        except ValueError:\n",
    "            continue\n",
    "    return result\n",
    "        \n",
    "\n",
    "listA = [\"23\", \"12\", \"abc\", \"12.5\", \"43\"]\n",
    "\n",
    "proof = convert(listA)\n",
    "print(proof)"
   ]
  },
  {
   "cell_type": "markdown",
   "metadata": {},
   "source": [
    "2️⃣ **Dictionary of Statistics**\n",
    "\n",
    "Given a list of numbers, create a dictionary containing:\n",
    "\n",
    "The average of the values.\n",
    "The largest and smallest number.\n",
    "The count of odd and even elements.\n",
    "\n",
    "Input: [10, 25, 33, 47, 50]\n",
    "\n",
    "Expected Output: {\"average\": 33.0, \"max\": 50, \"min\": 10, \"evens\": 2, \"odds\": 3}"
   ]
  },
  {
   "cell_type": "code",
   "execution_count": 3,
   "metadata": {},
   "outputs": [
    {
     "name": "stdout",
     "output_type": "stream",
     "text": [
      "{'average': 33.0, 'max_value': 50, 'min_value': 10, 'evens': 2, 'odds': 3}\n"
     ]
    }
   ],
   "source": [
    "listB = [10, 25, 33, 47, 50]\n",
    "\n",
    "stats = {\n",
    "    \"average\" : sum(listB)/len(listB),\n",
    "    \"max_value\" : max(listB),\n",
    "    \"min_value\" : min(listB),\n",
    "    \"evens\" : len([num for num in listB if num % 2 == 0]),\n",
    "    \"odds\" : len([num for num in listB if num % 2 != 0])\n",
    "}\n",
    "\n",
    "print(stats)\n"
   ]
  },
  {
   "cell_type": "markdown",
   "metadata": {},
   "source": [
    "3️⃣ **Counting Unique Characters**\n",
    "\n",
    "Write a program that takes a string and returns a dictionary where the keys are the unique characters and the values are their occurrence count. Ignore spaces and differentiate uppercase from lowercase.\n",
    "\n",
    "Input: \"Python Rocks!\"\n",
    "\n",
    "Expected Output: {'P': 1, 'y': 1, 't': 1, 'h': 1, 'o': 2, 'n': 1, 'R': 1, 'c': 1, 'k': 1, 's': 1, '!': 1}\n",
    "\n"
   ]
  },
  {
   "cell_type": "code",
   "execution_count": 1,
   "metadata": {},
   "outputs": [
    {
     "name": "stdout",
     "output_type": "stream",
     "text": [
      "1\n"
     ]
    }
   ],
   "source": [
    "ana = 1\n",
    "print(ana)"
   ]
  },
  {
   "cell_type": "markdown",
   "metadata": {},
   "source": [
    "4️⃣ **Tuple Operations**\n",
    "Write a function that takes two numeric tuples of the same size and returns a new tuple containing the sum of the elements at the same positions.\n",
    "\n",
    "Input: (1, 2, 3), (4, 5, 6)\n",
    "\n",
    "Expected Output: (5, 7, 9)"
   ]
  },
  {
   "cell_type": "code",
   "execution_count": null,
   "metadata": {},
   "outputs": [],
   "source": []
  },
  {
   "cell_type": "markdown",
   "metadata": {},
   "source": [
    "5️⃣ **Prime Number Filter**\n",
    "\n",
    "Write a function that takes a list of numbers and returns a set containing only the prime numbers.\n",
    "\n",
    "Input: [10, 17, 23, 33, 42, 29]\n",
    "\n",
    "Expected Output: {17, 23, 29}\n",
    "\n"
   ]
  },
  {
   "cell_type": "code",
   "execution_count": null,
   "metadata": {},
   "outputs": [],
   "source": []
  },
  {
   "cell_type": "markdown",
   "metadata": {},
   "source": [
    "6️⃣ **Replacing Values in a Dictionary**\n",
    "\n",
    "Write a program that replaces all occurrences of a specific value in a dictionary with another value.\n",
    "Input:\n",
    "\n",
    "data = {\"a\": 10, \"b\": 20, \"c\": 10, \"d\": 30}\n",
    "replace_value(10, 99)\n",
    "\n",
    "Expected Output: {\"a\": 99, \"b\": 20, \"c\": 99, \"d\": 30}"
   ]
  },
  {
   "cell_type": "code",
   "execution_count": null,
   "metadata": {},
   "outputs": [],
   "source": []
  },
  {
   "cell_type": "markdown",
   "metadata": {},
   "source": [
    "7️⃣ **Set Operations**\n",
    "\n",
    "Given two sets of numbers, return their intersection, union, and the elements that exist only in the first set.\n",
    "\n",
    "Input:\n",
    "\n",
    "set1 = {1, 2, 3, 4, 5}\n",
    "set2 = {4, 5, 6, 7}\n",
    "\n",
    "Expected Output:\n",
    "\n",
    "{\"intersection\": {4, 5}, \"union\": {1, 2, 3, 4, 5, 6, 7}, \"difference\": {1, 2, 3}}"
   ]
  },
  {
   "cell_type": "code",
   "execution_count": null,
   "metadata": {},
   "outputs": [],
   "source": []
  },
  {
   "cell_type": "markdown",
   "metadata": {},
   "source": [
    "8️⃣ **Mathematical Expression Validation**\n",
    "\n",
    "Write a program that validates a basic mathematical expression containing +, -, *, /. The expression should be a string and can only contain numbers and valid operators. If invalid, return False.\n",
    "\n",
    "Input: \"10 + (5 * 2) - 3\" / Expected Output: True\n",
    "\n",
    "Input: \"10 + * 2\" / Expected Output: False"
   ]
  },
  {
   "cell_type": "code",
   "execution_count": null,
   "metadata": {},
   "outputs": [],
   "source": []
  },
  {
   "cell_type": "markdown",
   "metadata": {},
   "source": [
    "9️⃣ **Maximum Product of Two Numbers**\n",
    "\n",
    "Given a list of positive and negative integers, find the maximum possible product of any two numbers in the list.\n",
    "\n",
    "Input: [10, -20, 3, 5, -6, 8]\n",
    "\n",
    "Expected Output: 120 (because -20 * -6 = 120)"
   ]
  },
  {
   "cell_type": "code",
   "execution_count": null,
   "metadata": {},
   "outputs": [],
   "source": []
  },
  {
   "cell_type": "markdown",
   "metadata": {},
   "source": [
    "🔟 **Constants and Area Calculation**\n",
    "\n",
    "Create a program where you define a constant PI = 3.14159 and a function that calculates the area of different geometric shapes:\n",
    "\n",
    "Circle: area_circle(radius)\n",
    "Rectangle: area_rectangle(width, height)\n",
    "Triangle: area_triangle(base, height)\n",
    "\n",
    "Input:\n",
    "\n",
    "area_circle(10)\n",
    "area_rectangle(5, 10)\n",
    "area_triangle(6, 8)\n",
    "\n",
    "Expected Output:\n",
    "{\"circle\": 314.16, \"rectangle\": 50, \"triangle\": 24}"
   ]
  },
  {
   "cell_type": "code",
   "execution_count": null,
   "metadata": {},
   "outputs": [],
   "source": []
  }
 ],
 "metadata": {
  "kernelspec": {
   "display_name": "Python 3",
   "language": "python",
   "name": "python3"
  },
  "language_info": {
   "codemirror_mode": {
    "name": "ipython",
    "version": 3
   },
   "file_extension": ".py",
   "mimetype": "text/x-python",
   "name": "python",
   "nbconvert_exporter": "python",
   "pygments_lexer": "ipython3",
   "version": "3.11.9"
  }
 },
 "nbformat": 4,
 "nbformat_minor": 2
}
